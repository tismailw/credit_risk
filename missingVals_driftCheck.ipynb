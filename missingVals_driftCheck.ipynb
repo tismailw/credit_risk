{
 "cells": [
  {
   "cell_type": "code",
   "execution_count": 34,
   "id": "e8dcdcee-fd69-4b7d-a6a1-7c4910df8f28",
   "metadata": {},
   "outputs": [],
   "source": [
    "import polars as pl\n",
    "import pandas as pd\n",
    "import matplotlib.pyplot as plt\n",
    "import numpy as np"
   ]
  },
  {
   "cell_type": "code",
   "execution_count": 35,
   "id": "43a56915-cd53-4a97-919b-a03432957daf",
   "metadata": {},
   "outputs": [],
   "source": [
    "# Loading and inspecting training and test datasets\n",
    "\n",
    "# Paths to training and test files\n",
    "TRAIN_PATH = r\"INSERT_YOUR_PATH TO train_base.csv\"\n",
    "TEST_PATH  = r\"INSERT_YOUR_PATH TO test_base.csv\""
   ]
  },
  {
   "cell_type": "code",
   "execution_count": 36,
   "id": "5d8ed7f7-cf90-46e1-addf-485b1b1a91d2",
   "metadata": {},
   "outputs": [],
   "source": [
    "# Loading dataset using Polars\n",
    "df_train = pl.read_csv(TRAIN_PATH)\n",
    "df_test = pl.read_csv(TEST_PATH)"
   ]
  },
  {
   "cell_type": "code",
   "execution_count": 37,
   "id": "09156f32-8580-421f-8aaa-681c4c7df9e2",
   "metadata": {},
   "outputs": [
    {
     "name": "stdout",
     "output_type": "stream",
     "text": [
      "Train shape: (1526659, 5)\n",
      "Test shape: (10, 4)\n"
     ]
    },
    {
     "data": {
      "text/html": [
       "<div><style>\n",
       ".dataframe > thead > tr,\n",
       ".dataframe > tbody > tr {\n",
       "  text-align: right;\n",
       "  white-space: pre-wrap;\n",
       "}\n",
       "</style>\n",
       "<small>shape: (5, 5)</small><table border=\"1\" class=\"dataframe\"><thead><tr><th>case_id</th><th>date_decision</th><th>MONTH</th><th>WEEK_NUM</th><th>target</th></tr><tr><td>i64</td><td>str</td><td>i64</td><td>i64</td><td>i64</td></tr></thead><tbody><tr><td>0</td><td>&quot;2019-01-03&quot;</td><td>201901</td><td>0</td><td>0</td></tr><tr><td>1</td><td>&quot;2019-01-03&quot;</td><td>201901</td><td>0</td><td>0</td></tr><tr><td>2</td><td>&quot;2019-01-04&quot;</td><td>201901</td><td>0</td><td>0</td></tr><tr><td>3</td><td>&quot;2019-01-03&quot;</td><td>201901</td><td>0</td><td>0</td></tr><tr><td>4</td><td>&quot;2019-01-04&quot;</td><td>201901</td><td>0</td><td>1</td></tr></tbody></table></div>"
      ],
      "text/plain": [
       "shape: (5, 5)\n",
       "┌─────────┬───────────────┬────────┬──────────┬────────┐\n",
       "│ case_id ┆ date_decision ┆ MONTH  ┆ WEEK_NUM ┆ target │\n",
       "│ ---     ┆ ---           ┆ ---    ┆ ---      ┆ ---    │\n",
       "│ i64     ┆ str           ┆ i64    ┆ i64      ┆ i64    │\n",
       "╞═════════╪═══════════════╪════════╪══════════╪════════╡\n",
       "│ 0       ┆ 2019-01-03    ┆ 201901 ┆ 0        ┆ 0      │\n",
       "│ 1       ┆ 2019-01-03    ┆ 201901 ┆ 0        ┆ 0      │\n",
       "│ 2       ┆ 2019-01-04    ┆ 201901 ┆ 0        ┆ 0      │\n",
       "│ 3       ┆ 2019-01-03    ┆ 201901 ┆ 0        ┆ 0      │\n",
       "│ 4       ┆ 2019-01-04    ┆ 201901 ┆ 0        ┆ 1      │\n",
       "└─────────┴───────────────┴────────┴──────────┴────────┘"
      ]
     },
     "execution_count": 37,
     "metadata": {},
     "output_type": "execute_result"
    }
   ],
   "source": [
    "# Outputing the shape of each dataset\n",
    "print(\"Train shape:\", df_train.shape)\n",
    "print(\"Test shape:\", df_test.shape)\n",
    "\n",
    "df_train.head()"
   ]
  },
  {
   "cell_type": "code",
   "execution_count": 38,
   "id": "96802da4-496a-427e-b7a9-db489b071f39",
   "metadata": {},
   "outputs": [
    {
     "name": "stdout",
     "output_type": "stream",
     "text": [
      "Top 10 missing columns in TRAIN:\n",
      "case_id          0.0%\n",
      "date_decision    0.0%\n",
      "MONTH            0.0%\n",
      "WEEK_NUM         0.0%\n",
      "target           0.0%\n",
      "dtype: object\n",
      "\n",
      "Top 10 missing columns in TEST:\n",
      "case_id          0.0%\n",
      "date_decision    0.0%\n",
      "MONTH            0.0%\n",
      "WEEK_NUM         0.0%\n",
      "dtype: object\n"
     ]
    }
   ],
   "source": [
    "# Now we will handle noisy values\n",
    "\n",
    "# Convert Polars DataFrames to Pandas for easier analysis\n",
    "train_pd = df_train.to_pandas()\n",
    "test_pd = df_test.to_pandas()\n",
    "\n",
    "# percent missing per column in train and test\n",
    "missing_train = train_pd.isnull().mean().sort_values(ascending=False)\n",
    "missing_test  = test_pd.isnull().mean().sort_values(ascending=False)\n",
    "\n",
    "print(\"Top 10 missing columns in TRAIN:\")\n",
    "print((missing_train.head(10) * 100).round(2).astype(str) + \"%\")\n",
    "\n",
    "print(\"\\nTop 10 missing columns in TEST:\")\n",
    "print((missing_test.head(10) * 100).round(2).astype(str) + \"%\")"
   ]
  },
  {
   "cell_type": "code",
   "execution_count": 39,
   "id": "e8a01cea-d81b-4a6d-a935-8769653b7209",
   "metadata": {},
   "outputs": [
    {
     "name": "stdout",
     "output_type": "stream",
     "text": [
      "Mean comparison (numeric shared features):\n",
      "    feature    train_mean  test_mean          diff\n",
      "0   case_id  1.286077e+06    57592.4  1.228484e+06\n",
      "1     MONTH  2.019363e+05   202201.0  2.647120e+02\n",
      "2  WEEK_NUM  4.076904e+01      100.0  5.923096e+01\n"
     ]
    }
   ],
   "source": [
    "# Identify columns shared by both train and test sets\n",
    "\n",
    "shared_columns = [c for c in train_pd.columns if c in test_pd.columns]\n",
    "\n",
    "drift_list = []\n",
    "for column in shared_columns:\n",
    "    # We will check the numeric columns for the difference of means for train and test sets\n",
    "    if np.issubdtype(train_pd[column].dtype, np.number):\n",
    "        train_mean = train_pd[column].mean()\n",
    "        test_mean = test_pd[column].mean()\n",
    "        diff = abs(train_mean - test_mean)\n",
    "        drift_list.append((column, train_mean, test_mean, diff))\n",
    "\n",
    "# Converting results to DataFrame and sorting by difference\n",
    "drift_df = pd.DataFrame(drift_list, columns=[\"feature\", \"train_mean\", \"test_mean\", \"diff\"])\n",
    "print(\"Mean comparison (numeric shared features):\")\n",
    "print(drift_df.sort_values(\"diff\", ascending=False).head(10))"
   ]
  }
 ],
 "metadata": {
  "kernelspec": {
   "display_name": "Python 3 (ipykernel)",
   "language": "python",
   "name": "python3"
  },
  "language_info": {
   "codemirror_mode": {
    "name": "ipython",
    "version": 3
   },
   "file_extension": ".py",
   "mimetype": "text/x-python",
   "name": "python",
   "nbconvert_exporter": "python",
   "pygments_lexer": "ipython3",
   "version": "3.11.0"
  }
 },
 "nbformat": 4,
 "nbformat_minor": 5
}
