{
 "cells": [
  {
   "cell_type": "code",
   "execution_count": null,
   "id": "a7fe3f53",
   "metadata": {},
   "outputs": [],
   "source": [
    "import numpy as np \n",
    "import pandas as pd \n",
    "import random, math, time, os \n",
    "import polars as pl \n",
    " "
   ]
  },
  {
   "cell_type": "code",
   "execution_count": 2,
   "id": "a3635fab",
   "metadata": {},
   "outputs": [],
   "source": [
    "TRAIN_DIRECTORY = \"./csv_files/train/\"\n",
    "TEST_DIRECTORY = \"./csv_files/test/\"\n",
    "\n",
    "df_train_base = pl.read_csv(TRAIN_DIRECTORY + \"train_base.csv\")\n",
    "df_test_base = pl.read_csv(TEST_DIRECTORY + \"test_base.csv\")\n",
    "df_static_0_0 = pl.read_csv(TRAIN_DIRECTORY + \"train_static_0_0.csv\")"
   ]
  },
  {
   "cell_type": "code",
   "execution_count": 3,
   "id": "b4cb4635",
   "metadata": {},
   "outputs": [],
   "source": [
    "def set_table_dtypes(df: pl.DataFrame) -> pl.DataFrame:\n",
    "    # implement here all desired dtypes for tables\n",
    "    # the following is just an example\n",
    "    for col in df.columns:\n",
    "        # last letter of column name will help you determine the type\n",
    "        if col[-1] in (\"P\", \"A\"):\n",
    "            df = df.with_columns(pl.col(col).cast(pl.Float64).alias(col))\n",
    "\n",
    "    return df"
   ]
  },
  {
   "cell_type": "code",
   "execution_count": null,
   "id": "0759d5f9",
   "metadata": {},
   "outputs": [
    {
     "data": {
      "text/plain": [
       "'train_static = pl.concat(\\n    [\\n        pl.read_csv(TRAIN_DIRECTORY + \"train_static_0_0.csv\").pipe(set_table_dtypes),\\n        pl.read_csv(TRAIN_DIRECTORY + \"train_static_0_1.csv\").pipe(set_table_dtypes),\\n    ],\\n    how=\"vertical_relaxed\",\\n)\\ntrain_static_cb = pl.read_csv(TRAIN_DIRECTORY + \"train_static_cb_0.csv\").pipe(set_table_dtypes)\\ntrain_person_1 = pl.read_csv(TRAIN_DIRECTORY + \"train_person_1.csv\").pipe(set_table_dtypes) \\ntrain_credit_bureau_b_2 = pl.read_csv(TRAIN_DIRECTORY + \"train_credit_bureau_b_2.csv\").pipe(set_table_dtypes) '"
      ]
     },
     "execution_count": 4,
     "metadata": {},
     "output_type": "execute_result"
    }
   ],
   "source": [
    "train_basetable = pl.read_csv(TRAIN_DIRECTORY + \"train_base.csv\")"
   ]
  },
  {
   "cell_type": "code",
   "execution_count": 5,
   "id": "68ea728f",
   "metadata": {},
   "outputs": [],
   "source": [
    "# Gathering training data! \n",
    "# Focusing on depth 0\n",
    "train_basetable = pl.read_csv(TRAIN_DIRECTORY + \"train_base.csv\")\n",
    "column_set = set() \n",
    "for root, dirs, file in os.walk(TRAIN_DIRECTORY):\n",
    "    for file_name in file:\n",
    "        if \"_static_\" in file_name:\n",
    "            df_temp = pl.read_csv(TRAIN_DIRECTORY + file_name)\n",
    "            train_basetable = train_basetable.join(df_temp, on=\"case_id\", how=\"left\")"
   ]
  },
  {
   "cell_type": "code",
   "execution_count": 6,
   "id": "b31cf9a7",
   "metadata": {},
   "outputs": [],
   "source": [
    "case_id_defaulted = train_basetable.filter(pl.col(\"target\") == 1)[\"case_id\"]\n",
    "case_id_not_defaulted = train_basetable.filter(pl.col(\"target\") == 0)[\"case_id\"]"
   ]
  },
  {
   "cell_type": "code",
   "execution_count": 7,
   "id": "73d1a33e",
   "metadata": {},
   "outputs": [
    {
     "name": "stdout",
     "output_type": "stream",
     "text": [
      "shape: (1_526_659, 391)\n",
      "┌─────────┬────────────┬────────┬──────────┬───┬────────────┬────────────┬────────────┬────────────┐\n",
      "│ case_id ┆ date_decis ┆ MONTH  ┆ WEEK_NUM ┆ … ┆ riskassesm ┆ riskassesm ┆ secondquar ┆ thirdquart │\n",
      "│ ---     ┆ ion        ┆ ---    ┆ ---      ┆   ┆ ent_302T   ┆ ent_940T   ┆ ter_766L   ┆ er_1082L   │\n",
      "│ i64     ┆ ---        ┆ i64    ┆ i64      ┆   ┆ ---        ┆ ---        ┆ ---        ┆ ---        │\n",
      "│         ┆ str        ┆        ┆          ┆   ┆ str        ┆ f64        ┆ f64        ┆ f64        │\n",
      "╞═════════╪════════════╪════════╪══════════╪═══╪════════════╪════════════╪════════════╪════════════╡\n",
      "│ 0       ┆ 2019-01-03 ┆ 201901 ┆ 0        ┆ … ┆ null       ┆ null       ┆ null       ┆ null       │\n",
      "│ 1       ┆ 2019-01-03 ┆ 201901 ┆ 0        ┆ … ┆ null       ┆ null       ┆ null       ┆ null       │\n",
      "│ 2       ┆ 2019-01-04 ┆ 201901 ┆ 0        ┆ … ┆ null       ┆ null       ┆ null       ┆ null       │\n",
      "│ 3       ┆ 2019-01-03 ┆ 201901 ┆ 0        ┆ … ┆ null       ┆ null       ┆ null       ┆ null       │\n",
      "│ 4       ┆ 2019-01-04 ┆ 201901 ┆ 0        ┆ … ┆ null       ┆ null       ┆ null       ┆ null       │\n",
      "│ …       ┆ …          ┆ …      ┆ …        ┆ … ┆ …          ┆ …          ┆ …          ┆ …          │\n",
      "│ 2703450 ┆ 2020-10-05 ┆ 202010 ┆ 91       ┆ … ┆ null       ┆ null       ┆ 1.0        ┆ 1.0        │\n",
      "│ 2703451 ┆ 2020-10-05 ┆ 202010 ┆ 91       ┆ … ┆ null       ┆ null       ┆ 1.0        ┆ 2.0        │\n",
      "│ 2703452 ┆ 2020-10-05 ┆ 202010 ┆ 91       ┆ … ┆ null       ┆ null       ┆ 0.0        ┆ 4.0        │\n",
      "│ 2703453 ┆ 2020-10-05 ┆ 202010 ┆ 91       ┆ … ┆ null       ┆ null       ┆ 2.0        ┆ 1.0        │\n",
      "│ 2703454 ┆ 2020-10-05 ┆ 202010 ┆ 91       ┆ … ┆ null       ┆ null       ┆ 2.0        ┆ 1.0        │\n",
      "└─────────┴────────────┴────────┴──────────┴───┴────────────┴────────────┴────────────┴────────────┘\n"
     ]
    }
   ],
   "source": [
    "print(train_basetable)"
   ]
  },
  {
   "cell_type": "code",
   "execution_count": 30,
   "id": "b739b1f4",
   "metadata": {},
   "outputs": [],
   "source": [
    "eliminate_column_set = set()\n",
    "for column in train_basetable.columns:\n",
    "    if train_basetable[column].null_count() / len(train_basetable[column]) >= 0.8:\n",
    "        eliminate_column_set.add(column)                                            \n"
   ]
  },
  {
   "cell_type": "code",
   "execution_count": 35,
   "id": "62692601",
   "metadata": {},
   "outputs": [],
   "source": [
    "for column in eliminate_column_set:\n",
    "    train_basetable = train_basetable.drop(column)"
   ]
  },
  {
   "cell_type": "code",
   "execution_count": 36,
   "id": "5fecca00",
   "metadata": {},
   "outputs": [
    {
     "name": "stdout",
     "output_type": "stream",
     "text": [
      "shape: (1_526_659, 287)\n",
      "┌─────────┬────────────┬────────┬──────────┬───┬────────────┬────────────┬────────────┬────────────┐\n",
      "│ case_id ┆ date_decis ┆ MONTH  ┆ WEEK_NUM ┆ … ┆ responseda ┆ responseda ┆ secondquar ┆ thirdquart │\n",
      "│ ---     ┆ ion        ┆ ---    ┆ ---      ┆   ┆ te_1012D   ┆ te_4527233 ┆ ter_766L   ┆ er_1082L   │\n",
      "│ i64     ┆ ---        ┆ i64    ┆ i64      ┆   ┆ ---        ┆ D          ┆ ---        ┆ ---        │\n",
      "│         ┆ str        ┆        ┆          ┆   ┆ str        ┆ ---        ┆ f64        ┆ f64        │\n",
      "│         ┆            ┆        ┆          ┆   ┆            ┆ str        ┆            ┆            │\n",
      "╞═════════╪════════════╪════════╪══════════╪═══╪════════════╪════════════╪════════════╪════════════╡\n",
      "│ 0       ┆ 2019-01-03 ┆ 201901 ┆ 0        ┆ … ┆ null       ┆ null       ┆ null       ┆ null       │\n",
      "│ 1       ┆ 2019-01-03 ┆ 201901 ┆ 0        ┆ … ┆ null       ┆ null       ┆ null       ┆ null       │\n",
      "│ 2       ┆ 2019-01-04 ┆ 201901 ┆ 0        ┆ … ┆ null       ┆ null       ┆ null       ┆ null       │\n",
      "│ 3       ┆ 2019-01-03 ┆ 201901 ┆ 0        ┆ … ┆ null       ┆ null       ┆ null       ┆ null       │\n",
      "│ 4       ┆ 2019-01-04 ┆ 201901 ┆ 0        ┆ … ┆ null       ┆ null       ┆ null       ┆ null       │\n",
      "│ …       ┆ …          ┆ …      ┆ …        ┆ … ┆ …          ┆ …          ┆ …          ┆ …          │\n",
      "│ 2703450 ┆ 2020-10-05 ┆ 202010 ┆ 91       ┆ … ┆ null       ┆ null       ┆ 1.0        ┆ 1.0        │\n",
      "│ 2703451 ┆ 2020-10-05 ┆ 202010 ┆ 91       ┆ … ┆ null       ┆ null       ┆ 1.0        ┆ 2.0        │\n",
      "│ 2703452 ┆ 2020-10-05 ┆ 202010 ┆ 91       ┆ … ┆ null       ┆ null       ┆ 0.0        ┆ 4.0        │\n",
      "│ 2703453 ┆ 2020-10-05 ┆ 202010 ┆ 91       ┆ … ┆ null       ┆ null       ┆ 2.0        ┆ 1.0        │\n",
      "│ 2703454 ┆ 2020-10-05 ┆ 202010 ┆ 91       ┆ … ┆ null       ┆ null       ┆ 2.0        ┆ 1.0        │\n",
      "└─────────┴────────────┴────────┴──────────┴───┴────────────┴────────────┴────────────┴────────────┘\n"
     ]
    }
   ],
   "source": [
    "print(train_basetable)"
   ]
  }
 ],
 "metadata": {
  "kernelspec": {
   "display_name": "venv",
   "language": "python",
   "name": "python3"
  },
  "language_info": {
   "codemirror_mode": {
    "name": "ipython",
    "version": 3
   },
   "file_extension": ".py",
   "mimetype": "text/x-python",
   "name": "python",
   "nbconvert_exporter": "python",
   "pygments_lexer": "ipython3",
   "version": "3.14.0"
  }
 },
 "nbformat": 4,
 "nbformat_minor": 5
}
